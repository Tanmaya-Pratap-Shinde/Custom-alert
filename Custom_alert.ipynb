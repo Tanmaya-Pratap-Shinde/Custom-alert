{
 "cells": [
  {
   "cell_type": "code",
   "execution_count": 1,
   "id": "13063a2e-7ec1-400c-8bab-58908ddf9b15",
   "metadata": {},
   "outputs": [
    {
     "name": "stdout",
     "output_type": "stream",
     "text": [
      "Collecting pyttsx3\n",
      "  Downloading pyttsx3-2.99-py3-none-any.whl.metadata (6.2 kB)\n",
      "Collecting comtypes (from pyttsx3)\n",
      "  Downloading comtypes-1.4.12-py3-none-any.whl.metadata (7.3 kB)\n",
      "Collecting pypiwin32 (from pyttsx3)\n",
      "  Downloading pypiwin32-223-py3-none-any.whl.metadata (236 bytes)\n",
      "Requirement already satisfied: pywin32 in c:\\users\\hp\\appdata\\local\\programs\\python\\python313\\lib\\site-packages (from pyttsx3) (310)\n",
      "Downloading pyttsx3-2.99-py3-none-any.whl (32 kB)\n",
      "Downloading comtypes-1.4.12-py3-none-any.whl (253 kB)\n",
      "Downloading pypiwin32-223-py3-none-any.whl (1.7 kB)\n",
      "Installing collected packages: pypiwin32, comtypes, pyttsx3\n",
      "\n",
      "   ------------- -------------------------- 1/3 [comtypes]\n",
      "   ------------- -------------------------- 1/3 [comtypes]\n",
      "   ------------- -------------------------- 1/3 [comtypes]\n",
      "   ------------- -------------------------- 1/3 [comtypes]\n",
      "   ------------- -------------------------- 1/3 [comtypes]\n",
      "   ------------- -------------------------- 1/3 [comtypes]\n",
      "   ------------- -------------------------- 1/3 [comtypes]\n",
      "   ------------- -------------------------- 1/3 [comtypes]\n",
      "   ------------- -------------------------- 1/3 [comtypes]\n",
      "   ------------- -------------------------- 1/3 [comtypes]\n",
      "   ------------- -------------------------- 1/3 [comtypes]\n",
      "   ------------- -------------------------- 1/3 [comtypes]\n",
      "   ------------- -------------------------- 1/3 [comtypes]\n",
      "   ------------- -------------------------- 1/3 [comtypes]\n",
      "   ------------- -------------------------- 1/3 [comtypes]\n",
      "   ------------- -------------------------- 1/3 [comtypes]\n",
      "   ------------- -------------------------- 1/3 [comtypes]\n",
      "   ------------- -------------------------- 1/3 [comtypes]\n",
      "   ------------- -------------------------- 1/3 [comtypes]\n",
      "   ------------- -------------------------- 1/3 [comtypes]\n",
      "   ------------- -------------------------- 1/3 [comtypes]\n",
      "   ------------- -------------------------- 1/3 [comtypes]\n",
      "   ------------- -------------------------- 1/3 [comtypes]\n",
      "   ------------- -------------------------- 1/3 [comtypes]\n",
      "   -------------------------- ------------- 2/3 [pyttsx3]\n",
      "   -------------------------- ------------- 2/3 [pyttsx3]\n",
      "   ---------------------------------------- 3/3 [pyttsx3]\n",
      "\n",
      "Successfully installed comtypes-1.4.12 pypiwin32-223 pyttsx3-2.99\n",
      "Note: you may need to restart the kernel to use updated packages.\n"
     ]
    },
    {
     "name": "stderr",
     "output_type": "stream",
     "text": [
      "\n",
      "[notice] A new release of pip is available: 25.1.1 -> 25.2\n",
      "[notice] To update, run: python.exe -m pip install --upgrade pip\n"
     ]
    }
   ],
   "source": [
    "pip install pyttsx3"
   ]
  },
  {
   "cell_type": "code",
   "execution_count": 2,
   "id": "0972276e-ca95-4486-8612-4d7415359270",
   "metadata": {},
   "outputs": [
    {
     "ename": "SyntaxError",
     "evalue": "invalid syntax (842801469.py, line 1)",
     "output_type": "error",
     "traceback": [
      "  \u001b[36mCell\u001b[39m\u001b[36m \u001b[39m\u001b[32mIn[2]\u001b[39m\u001b[32m, line 1\u001b[39m\n\u001b[31m    \u001b[39m\u001b[31mpython.exe -m pip install --upgrade pip\u001b[39m\n                  ^\n\u001b[31mSyntaxError\u001b[39m\u001b[31m:\u001b[39m invalid syntax\n"
     ]
    }
   ],
   "source": [
    "python.exe -m pip install --upgrade pip"
   ]
  },
  {
   "cell_type": "code",
   "execution_count": 3,
   "id": "f936a590-e728-4cee-9a00-66b07be2ae71",
   "metadata": {},
   "outputs": [],
   "source": [
    "import tkinter as tk\n",
    "from tkinter import ttk\n",
    "import pyttsx3\n",
    "import time\n",
    "import threading\n",
    "\n",
    "# Initialize text-to-speech engine\n",
    "engine = pyttsx3.init()\n",
    "engine.setProperty('rate', 150)\n",
    "\n",
    "# Alert function\n",
    "def speak_alert():\n",
    "    engine.say(\"Time to change the question\")\n",
    "    engine.runAndWait()\n",
    "\n",
    "# Timer logic\n",
    "def start_timer():\n",
    "    interval = int(interval_var.get()) * 1000\n",
    "    stop_button.config(state=\"normal\")\n",
    "    start_button.config(state=\"disabled\")\n",
    "    def run_timer():\n",
    "        while timer_running[0]:\n",
    "            time.sleep(interval / 1000)\n",
    "            if timer_running[0]:\n",
    "                speak_alert()\n",
    "    timer_thread = threading.Thread(target=run_timer)\n",
    "    timer_thread.start()\n",
    "\n",
    "def stop_timer():\n",
    "    timer_running[0] = False\n",
    "    start_button.config(state=\"normal\")\n",
    "    stop_button.config(state=\"disabled\")\n",
    "\n",
    "# GUI setup\n",
    "root = tk.Tk()\n",
    "root.title(\"🕰️ Question Shift Timer\")\n",
    "root.geometry(\"400x300\")\n",
    "root.configure(bg=\"#1e1e2f\")\n",
    "\n",
    "style = ttk.Style()\n",
    "style.theme_use(\"clam\")\n",
    "style.configure(\"TButton\", font=(\"Helvetica\", 14), padding=10, background=\"#3e3e5e\", foreground=\"white\")\n",
    "style.configure(\"TLabel\", font=(\"Helvetica\", 16), background=\"#1e1e2f\", foreground=\"white\")\n",
    "style.configure(\"TCombobox\", font=(\"Helvetica\", 14))\n",
    "\n",
    "# Title\n",
    "ttk.Label(root, text=\"⏳ Ritual Timer\").pack(pady=10)\n",
    "\n",
    "# Interval selector\n",
    "interval_var = tk.StringVar(value=\"15\")\n",
    "ttk.Label(root, text=\"Choose interval (seconds):\").pack()\n",
    "interval_menu = ttk.Combobox(root, textvariable=interval_var, values=[\"15\", \"30\", \"45\"], state=\"readonly\")\n",
    "interval_menu.pack(pady=5)\n",
    "\n",
    "# Buttons\n",
    "start_button = ttk.Button(root, text=\"▶️ Start Timer\", command=lambda: [timer_running.__setitem__(0, True), start_timer()])\n",
    "start_button.pack(pady=10)\n",
    "\n",
    "stop_button = ttk.Button(root, text=\"⏹️ Stop Timer\", command=stop_timer, state=\"disabled\")\n",
    "stop_button.pack()\n",
    "\n",
    "# Footer\n",
    "ttk.Label(root, text=\"Designed for soulful focus ✨\").pack(pady=20)\n",
    "\n",
    "timer_running = [False]\n",
    "root.mainloop()"
   ]
  },
  {
   "cell_type": "code",
   "execution_count": null,
   "id": "2ce34ce0-5506-485f-af93-6930774215c8",
   "metadata": {},
   "outputs": [],
   "source": []
  }
 ],
 "metadata": {
  "kernelspec": {
   "display_name": "Python 3 (ipykernel)",
   "language": "python",
   "name": "python3"
  },
  "language_info": {
   "codemirror_mode": {
    "name": "ipython",
    "version": 3
   },
   "file_extension": ".py",
   "mimetype": "text/x-python",
   "name": "python",
   "nbconvert_exporter": "python",
   "pygments_lexer": "ipython3",
   "version": "3.13.2"
  }
 },
 "nbformat": 4,
 "nbformat_minor": 5
}
